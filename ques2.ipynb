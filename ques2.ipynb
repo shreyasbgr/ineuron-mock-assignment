{
 "cells": [
  {
   "cell_type": "markdown",
   "id": "1013c024",
   "metadata": {},
   "source": [
    "## Abstract Classes\n",
    "Abstract classes can be considered as a blueprint for other classes. They contain one or more abstract methods, which are just method declarations without the method implementation. These methods are then implemented by the sub-classes which inherit from these abstract classes.\n",
    "\n",
    "## Inheritance\n",
    "Inheritance allows us to define a class that inherits all the methods and properties from another class. The sub-class inherits the data members and the methods of the parent class.\n",
    "\n",
    "## Decorators\n",
    "Decorators are used to wrap a function, to modify its behaviour. They can be used to add functionality to an existing function.\n",
    "In the below example, the @abstractmethod decorator is used for the no_of_wheels method in Vehicle class to modify the method into an abstract method.\n",
    "\n",
    "### Example of decorators and Abstract class created using the abc(abstract base class) module in python:"
   ]
  },
  {
   "cell_type": "code",
   "execution_count": 1,
   "id": "7d097de4",
   "metadata": {},
   "outputs": [
    {
     "name": "stdout",
     "output_type": "stream",
     "text": [
      "I have 3 wheels.\n",
      "I have 2 wheels.\n",
      "I have 4 wheels.\n"
     ]
    }
   ],
   "source": [
    "from abc import ABC,abstractmethod\n",
    "class Vehicle:\n",
    "    \n",
    "    @abstractmethod\n",
    "    def no_of_wheels(self):\n",
    "        pass\n",
    "\n",
    "class Car(Vehicle):\n",
    "    \n",
    "    # overriding abstract method\n",
    "    def no_of_wheels(self):\n",
    "        print(\"I have 4 wheels.\")\n",
    "\n",
    "class Auto(Vehicle):\n",
    "    \n",
    "    # overriding abstract method\n",
    "    def no_of_wheels(self):\n",
    "        print(\"I have 3 wheels.\")\n",
    "\n",
    "class Bike(Vehicle):\n",
    "    \n",
    "    # overriding abstract method\n",
    "    def no_of_wheels(self):\n",
    "        print(\"I have 2 wheels.\")\n",
    "\n",
    "a = Auto()\n",
    "a.no_of_wheels()\n",
    "b = Bike()\n",
    "b.no_of_wheels()\n",
    "c = Car()\n",
    "c.no_of_wheels()\n",
    "    "
   ]
  },
  {
   "cell_type": "markdown",
   "id": "3e80f5c9",
   "metadata": {},
   "source": [
    "## Multiple Inheritance\n",
    "Multiple inheritance is when one class inherits multiple base classes. This class inherits the data members and methods of all of these multiple base classes. In the below example, we can see that the Child class inherits from multiple classes namely - Father and Mother. All the methods of the Father as well as the Mother class are available to the objects of Child class.\n",
    "\n",
    "## Example of multiple inheritance"
   ]
  },
  {
   "cell_type": "code",
   "execution_count": 5,
   "id": "f7c046b4",
   "metadata": {},
   "outputs": [
    {
     "name": "stdout",
     "output_type": "stream",
     "text": [
      "Driving!\n",
      "Cooking!\n",
      "Playing!\n"
     ]
    }
   ],
   "source": [
    "class Father():\n",
    "    def driving(self):\n",
    "        print(\"Driving!\")\n",
    "\n",
    "class Mother():\n",
    "    def cooking(self):\n",
    "        print(\"Cooking!\")\n",
    "\n",
    "class Child(Father,Mother):\n",
    "    def playing(self):\n",
    "        print(\"Playing!\")\n",
    "\n",
    "c=Child()\n",
    "c.driving()\n",
    "c.cooking()\n",
    "c.playing()"
   ]
  },
  {
   "cell_type": "code",
   "execution_count": null,
   "id": "3f585a06",
   "metadata": {},
   "outputs": [],
   "source": []
  }
 ],
 "metadata": {
  "kernelspec": {
   "display_name": "Python 3 (ipykernel)",
   "language": "python",
   "name": "python3"
  },
  "language_info": {
   "codemirror_mode": {
    "name": "ipython",
    "version": 3
   },
   "file_extension": ".py",
   "mimetype": "text/x-python",
   "name": "python",
   "nbconvert_exporter": "python",
   "pygments_lexer": "ipython3",
   "version": "3.7.11"
  }
 },
 "nbformat": 4,
 "nbformat_minor": 5
}
